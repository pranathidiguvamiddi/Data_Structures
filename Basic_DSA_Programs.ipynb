{
 "cells": [
  {
   "cell_type": "code",
   "execution_count": 5,
   "id": "d3aa4e53-aa6d-4c37-a726-bf51c37b0c56",
   "metadata": {},
   "outputs": [
    {
     "name": "stdin",
     "output_type": "stream",
     "text": [
      " 7\n"
     ]
    },
    {
     "name": "stdout",
     "output_type": "stream",
     "text": [
      "7 is Odd\n"
     ]
    }
   ],
   "source": [
    "\n",
    "# q1.WRITE A PYTHON PROGRAM TO CHECK EVEN OR ODD\n",
    "# input should be taken from user \n",
    "def Even_or_Odd(num):\n",
    "    if (num%2 == 0):\n",
    "     print(f'{num} is Even')\n",
    "    else:\n",
    "     print(f\"{num} is Odd\")\n",
    "#driver code \n",
    "num = int(input())\n",
    "Even_or_Odd(num)\n",
    "    "
   ]
  },
  {
   "cell_type": "code",
   "execution_count": 6,
   "id": "49487766-71e9-485c-af50-0dd410a4c12e",
   "metadata": {},
   "outputs": [
    {
     "name": "stdin",
     "output_type": "stream",
     "text": [
      " 8\n"
     ]
    },
    {
     "name": "stdout",
     "output_type": "stream",
     "text": [
      "8 is Even\n"
     ]
    }
   ],
   "source": [
    "# q1.WRITE A PYTHON PROGRAM TO CHECK EVEN OR ODD\n",
    "# input should be taken from user \n",
    "def Even_or_Odd(num):\n",
    "    if (num%2 == 0):\n",
    "     print(f'{num} is Even')\n",
    "    else:\n",
    "     print(f\"{num} is Odd\")\n",
    "#driver code \n",
    "num = int(input())\n",
    "Even_or_Odd(num)\n",
    "    "
   ]
  },
  {
   "cell_type": "code",
   "execution_count": 4,
   "id": "31653b45-a057-4bd1-bea1-e0a704397bba",
   "metadata": {},
   "outputs": [
    {
     "name": "stdin",
     "output_type": "stream",
     "text": [
      " 100 40 80\n"
     ]
    },
    {
     "name": "stdout",
     "output_type": "stream",
     "text": [
      "100 is the largest\n"
     ]
    }
   ],
   "source": [
    "\n",
    "\n",
    "# Program find the Largest of Three Numbers\n",
    "def is_largest(num1, num2, num3):\n",
    "    if num1 > num2 and num1 > num3:\n",
    "        print(f\"{num1} is the largest\")\n",
    "    elif num2 > num1 and num2 > num3:\n",
    "        print(f\"{num2} is the largest\")\n",
    "    else:\n",
    "        print(f\"{num3} is the largest\")\n",
    "num1, num2, num3 = map(int,input().split(' '))\n",
    "res = is_largest(num1,num2,num3)"
   ]
  },
  {
   "cell_type": "code",
   "execution_count": 3,
   "id": "cdcf53ab-971e-4c04-982e-5f84a153976e",
   "metadata": {},
   "outputs": [
    {
     "name": "stdin",
     "output_type": "stream",
     "text": [
      " 10 40 100\n"
     ]
    },
    {
     "name": "stdout",
     "output_type": "stream",
     "text": [
      "100 is the largest\n"
     ]
    }
   ],
   "source": [
    "# Program find the Largest of Three Numbers\n",
    "def is_largest(num1, num2, num3):\n",
    "    if num1 > num2 and num1 > num3:\n",
    "        print(f\"{num1} is the largest\")\n",
    "    elif num2 > num1 and num2 > num3:\n",
    "        print(f\"{num2} is the largest\")\n",
    "    else:\n",
    "        print(f\"{num3} is the largest\")\n",
    "num1, num2, num3 = map(int,input().split(' '))\n",
    "res = is_largest(num1,num2,num3)"
   ]
  },
  {
   "cell_type": "code",
   "execution_count": 14,
   "id": "58b3c064-0d46-4113-b76a-0b1c16fbab15",
   "metadata": {},
   "outputs": [
    {
     "name": "stdin",
     "output_type": "stream",
     "text": [
      " 5\n"
     ]
    },
    {
     "name": "stdout",
     "output_type": "stream",
     "text": [
      "factorial of 5is 120\n"
     ]
    }
   ],
   "source": [
    "#Python Program to find the factorial of a Number.\n",
    "#Input should be taken from the user. \n",
    "def factorial(num):\n",
    "    if(num == 0 or num == 1):\n",
    "        return 1 \n",
    "    else:\n",
    "        #range(start,end,step)\n",
    "        res = 1\n",
    "        for value in range(num, 0, -1):                                                                \n",
    "            res = res * value\n",
    "        return res\n",
    "#driver code \n",
    "num = int(input())\n",
    "if(num < 0):\n",
    "    print('factorial does not exit for negitive numbers')\n",
    "else:\n",
    "    res = factorial(num)\n",
    "    print(f\"factorial of {num}is {res}\")\n"
   ]
  },
  {
   "cell_type": "code",
   "execution_count": 18,
   "id": "f4d6d259-2665-4611-a1d2-33abddbee413",
   "metadata": {},
   "outputs": [
    {
     "name": "stdin",
     "output_type": "stream",
     "text": [
      "Enter a number:  8\n"
     ]
    },
    {
     "name": "stdout",
     "output_type": "stream",
     "text": [
      "Factorial of 8 is 40320\n"
     ]
    }
   ],
   "source": [
    "def factorial(num):\n",
    "    if num == 0 or num == 1:\n",
    "        return 1\n",
    "    else:\n",
    "        res = 1\n",
    "        while num > 0:\n",
    "            res *= num\n",
    "            num -= 1\n",
    "        return res\n",
    "\n",
    "# Driver code \n",
    "num = int(input(\"Enter a number: \"))\n",
    "if num < 0:\n",
    "    print(\"Factorial does not exist for negative numbers.\")\n",
    "else:\n",
    "    res = factorial(num)\n",
    "    print(f\"Factorial of {num} is {res}\")\n"
   ]
  },
  {
   "cell_type": "code",
   "execution_count": 5,
   "id": "568e2275-2ffe-4431-9d12-c5488e1ac895",
   "metadata": {},
   "outputs": [
    {
     "name": "stdin",
     "output_type": "stream",
     "text": [
      " 4\n"
     ]
    },
    {
     "name": "stdout",
     "output_type": "stream",
     "text": [
      "0 0 0 0 "
     ]
    }
   ],
   "source": [
    "#Write a Python Program for Fibonacci series (0,1,1,2,3,5,8,13,21………)\n",
    "def fibonacci_series(num):\n",
    "    first, second =0,1\n",
    "    #range(start,end,step)\n",
    "    for value in range(1,num + 1, +1):\n",
    "        print(first, end =\" \")\n",
    "        third = first + second\n",
    "        frist = second\n",
    "        second = third\n",
    "num = int(input())\n",
    "res=fibonacci_series(num)"
   ]
  },
  {
   "cell_type": "code",
   "execution_count": 2,
   "id": "a4a94bd6-17cd-46aa-9237-f8bd64b2ba63",
   "metadata": {},
   "outputs": [
    {
     "name": "stdin",
     "output_type": "stream",
     "text": [
      " 6\n"
     ]
    },
    {
     "name": "stdout",
     "output_type": "stream",
     "text": [
      "20 19 17 14 10 5 "
     ]
    }
   ],
   "source": [
    "#Q5 series :20,19,17,14,10,5,-1\n",
    "def print_series1(num):\n",
    "    res = 20\n",
    "    for value in range(1,num+1,+1):\n",
    "        print(res,end=\" \")\n",
    "        res = res - value\n",
    "#input\n",
    "num=int(input())\n",
    "print_series1(num)"
   ]
  },
  {
   "cell_type": "code",
   "execution_count": 8,
   "id": "b7da7d69-a15f-4ecf-b75e-0595257997d4",
   "metadata": {},
   "outputs": [
    {
     "name": "stdin",
     "output_type": "stream",
     "text": [
      " 8\n"
     ]
    },
    {
     "name": "stdout",
     "output_type": "stream",
     "text": [
      "0 2 8 14 24 34 48 62 "
     ]
    }
   ],
   "source": [
    "#Q6:series : 0,2,8,14,24,34...\n",
    "def print_series2(num):\n",
    "    for value in range(1,num+1,1):\n",
    "        if(value % 2==0):\n",
    "            print(value**2-2,end=\" \")\n",
    "        else:\n",
    "            print(value**2-1,end=\" \")\n",
    "#input\n",
    "num=int(input())\n",
    "print_series2(num)           \n",
    "    "
   ]
  },
  {
   "cell_type": "code",
   "execution_count": 1,
   "id": "d5e9d020-1e4e-4874-9a25-144963fd94a4",
   "metadata": {},
   "outputs": [
    {
     "name": "stdin",
     "output_type": "stream",
     "text": [
      " 5\n",
      " 3\n"
     ]
    },
    {
     "name": "stdout",
     "output_type": "stream",
     "text": [
      "before swapping:\n",
      ")5\n",
      "3\n",
      "before swapping:\n",
      ")3\n",
      "5\n"
     ]
    }
   ],
   "source": [
    "#Q7: swapping two strings \n",
    "def swap(string1,string2):\n",
    "    print(f\"before swapping:\\n){string1}\\n{string2}\")\n",
    "    string1,string2=string2,string1\n",
    "    print(f\"before swapping:\\n){string1}\\n{string2}\")\n",
    "string1=input()\n",
    "string2=input()\n",
    "swap(string1,string2)\n"
   ]
  },
  {
   "cell_type": "code",
   "execution_count": 2,
   "id": "dbc98e44-d515-499d-9adb-e7869a406d96",
   "metadata": {},
   "outputs": [],
   "source": [
    "\n",
    "#Q8.series 12,32,72,152,312.....\n",
    "def print_series3(num):\n",
    "    res = 12\n",
    "    diff = 20\n",
    "    for value in range(1,num+1,1):\n",
    "        print(res,end=\" \")\n",
    "        res = res+diff\n",
    "        deff = deff*2\n",
    "\n"
   ]
  },
  {
   "cell_type": "code",
   "execution_count": 3,
   "id": "d118d421-a0ce-4973-ad8a-4cc468557726",
   "metadata": {},
   "outputs": [
    {
     "name": "stdin",
     "output_type": "stream",
     "text": [
      " sai\n",
      " krishna\n"
     ]
    },
    {
     "name": "stdout",
     "output_type": "stream",
     "text": [
      "Before Swapping: \n",
      "sai\n",
      "krishna\n",
      "After Swapping: \n",
      "krishna\n",
      "sai\n"
     ]
    }
   ],
   "source": [
    "# Q9 to swap two strings without using third variable\n",
    "#logic :string1,string2=string2,string1\n",
    "def swap(string1,string2):\n",
    "      print(f\"Before Swapping: \\n{string1}\\n{string2}\")\n",
    "      string1, string2 = string2, string1\n",
    "      print (f\"After Swapping: \\n{string1}\\n{string2}\")\n",
    "string1= input()\n",
    "string2= input()\n",
    "swap(string1,string2)"
   ]
  },
  {
   "cell_type": "code",
   "execution_count": 2,
   "id": "8f6778b3-9dc2-481a-96ea-259a13f54b5e",
   "metadata": {},
   "outputs": [
    {
     "name": "stdin",
     "output_type": "stream",
     "text": [
      "Enter a number:  136\n"
     ]
    },
    {
     "name": "stdout",
     "output_type": "stream",
     "text": [
      "136 is not an Armstrong number\n"
     ]
    }
   ],
   "source": [
    "# Q10.Program to check Armstrong number.\n",
    "def is_armstrong(num):\n",
    "    copy = num\n",
    "    digits_count = len(str(num))  \n",
    "    total_sum = 0 \n",
    "    while num != 0:\n",
    "        digit = num % 10  \n",
    "        total_sum += digit ** digits_count  \n",
    "        num = num // 10  \n",
    "    return copy == total_sum\n",
    "\n",
    "num = int(input(\"Enter a number: \"))\n",
    "if is_armstrong(num):\n",
    "    print(f\"{num} is an Armstrong number\")\n",
    "else:\n",
    "    print(f\"{num} is not an Armstrong number\")"
   ]
  },
  {
   "cell_type": "code",
   "execution_count": 7,
   "id": "353a95c8-3241-42dc-8a54-6b357baac56c",
   "metadata": {},
   "outputs": [
    {
     "name": "stdin",
     "output_type": "stream",
     "text": [
      "Enter the number of rows (row):  4\n",
      "Enter the number of columns (colum):  4\n"
     ]
    },
    {
     "name": "stdout",
     "output_type": "stream",
     "text": [
      "****\n",
      "****\n",
      "****\n",
      "****\n"
     ]
    }
   ],
   "source": [
    "#Q11. print rectangle\n",
    "def print_rectangle(row, colum):\n",
    "    for i in range(row):\n",
    "        print('*' * colum)  # Print N stars in each row\n",
    "\n",
    "# Input for number of rows and columns\n",
    "row = int(input(\"Enter the number of rows (row): \"))\n",
    "colum = int(input(\"Enter the number of columns (colum): \"))\n",
    "\n",
    "# Call the function to print the rectangle\n",
    "print_rectangle(row, colum)"
   ]
  },
  {
   "cell_type": "code",
   "execution_count": 10,
   "id": "d3de15b7-91b1-4262-b89d-1641d6327262",
   "metadata": {},
   "outputs": [
    {
     "name": "stdin",
     "output_type": "stream",
     "text": [
      "Enter the number of lines (N):  7\n"
     ]
    },
    {
     "name": "stdout",
     "output_type": "stream",
     "text": [
      "*******\n",
      "*******\n",
      "*******\n",
      "*******\n",
      "*******\n",
      "*******\n",
      "*******\n"
     ]
    }
   ],
   "source": [
    "# Q 12.to print Square Pattern Stars with “N” Lines.\n",
    "def print_square(N):\n",
    "    for i in range(N):\n",
    "        print('*' * N)  \n",
    "N = int(input(\"Enter the number of lines (N): \"))\n",
    "print_square(N)"
   ]
  },
  {
   "cell_type": "code",
   "execution_count": 12,
   "id": "3c5d89df-7f8e-4fd2-822e-3f1ea4eccfcc",
   "metadata": {},
   "outputs": [
    {
     "name": "stdin",
     "output_type": "stream",
     "text": [
      " 6\n"
     ]
    },
    {
     "name": "stdout",
     "output_type": "stream",
     "text": [
      "******\n",
      "*    *\n",
      "*    *\n",
      "*    *\n",
      "*    *\n",
      "******\n"
     ]
    }
   ],
   "source": [
    "#Q13.write a python program Hollow suare\n",
    "def stars_pattern2(num):\n",
    "    for row in range(1,num + 1,1):\n",
    "        if(row == 1 or row == num):\n",
    "            print('*' * num)\n",
    "        else:\n",
    "            print('*'+\" \"*(num-2)+\"*\")\n",
    "#driver code\n",
    "num=int(input())\n",
    "stars_pattern2(num)\n",
    "            "
   ]
  },
  {
   "cell_type": "code",
   "execution_count": 15,
   "id": "19ae76cb-3edb-4631-8647-098e775ad09d",
   "metadata": {},
   "outputs": [
    {
     "name": "stdin",
     "output_type": "stream",
     "text": [
      " 5\n"
     ]
    },
    {
     "name": "stdout",
     "output_type": "stream",
     "text": [
      "*\n",
      "**\n",
      "***\n",
      "****\n",
      "*****\n"
     ]
    }
   ],
   "source": [
    "#Q14 trinangle\n",
    "def stars_pattern3(num):\n",
    "    for row in range(1,num+1,+1):\n",
    "        print('*'*row)\n",
    "\n",
    "\n",
    "#driver code\n",
    "num = int(input())\n",
    "stars_pattern3(num)\n",
    "\n",
    "            "
   ]
  },
  {
   "cell_type": "code",
   "execution_count": 16,
   "id": "2ad19ca8-8769-43d8-9dca-95dd3c60f1ce",
   "metadata": {},
   "outputs": [
    {
     "name": "stdin",
     "output_type": "stream",
     "text": [
      " 6\n"
     ]
    },
    {
     "name": "stdout",
     "output_type": "stream",
     "text": [
      "     *\n",
      "    ***\n",
      "   *****\n",
      "  *******\n",
      " *********\n",
      "***********\n"
     ]
    }
   ],
   "source": [
    "#Q15  triangle \n",
    "def stars_pattern4(num):\n",
    "    for row in range(1,num+1,+1):\n",
    "        print(\" \"*(num-row)+\"*\"*(2*row-1))\n",
    "\n",
    "#driver code\n",
    "num = int(input())\n",
    "stars_pattern4(num)\n",
    "\n",
    "        "
   ]
  },
  {
   "cell_type": "code",
   "execution_count": 18,
   "id": "3e8c2e44-ad63-454d-a3ef-90650fae0a9b",
   "metadata": {},
   "outputs": [
    {
     "name": "stdin",
     "output_type": "stream",
     "text": [
      " 6\n"
     ]
    },
    {
     "name": "stdout",
     "output_type": "stream",
     "text": [
      "***********\n",
      " *********\n",
      "  *******\n",
      "   *****\n",
      "    ***\n",
      "     *\n"
     ]
    }
   ],
   "source": [
    "#Q16  reverse  triangle \n",
    "def stars_pattern4(num):\n",
    "    for row in range(num,0,+1,+1):\n",
    "        print(\" \"*(num-row)+\"*\"*(2*row-1))\n",
    "\n",
    "#driver code\n",
    "num = int(input())\n",
    "stars_pattern4(num)\n"
   ]
  },
  {
   "cell_type": "code",
   "execution_count": null,
   "id": "ea5371d7-f486-4e12-a9f0-f89f0aaea2e3",
   "metadata": {},
   "outputs": [],
   "source": [
    "def print_reverse_pattern(rows):\n",
    "    for i in range(rows, 0, -1):\n",
    "        for j in range(1, i + 1):\n",
    "            print(j, end=' ')\n",
    "        print()\n",
    "\n",
    "# Set the number of rows\n",
    "rows = 5\n",
    "print_reverse_pattern(rows)\n"
   ]
  },
  {
   "cell_type": "code",
   "execution_count": 7,
   "id": "1d706f69-999a-4ec8-aa0d-3d0a0ea1fb76",
   "metadata": {},
   "outputs": [
    {
     "name": "stdin",
     "output_type": "stream",
     "text": [
      " 5\n",
      " 2 3 6 8 1\n"
     ]
    },
    {
     "name": "stdout",
     "output_type": "stream",
     "text": [
      " Min value: 1\n",
      " Max value: 8\n"
     ]
    }
   ],
   "source": [
    "#to printmin and max element in a list  without using max(\n",
    "#logic: num>max_value :  max_value = num\n",
    "#num<min_value:min_value = num\n",
    "#\n",
    "def min_max(nums,size):\n",
    "    min_value=nums[0]\n",
    "    max_value=nums[0]\n",
    "    for num in nums:\n",
    "        if(num>max_value):\n",
    "            max_value = num\n",
    "        if(num<min_value):\n",
    "            min_value = num\n",
    "    print(f\" Min value: {min_value}\")\n",
    "    print(f\" Max value: {max_value}\")\n",
    "size = int(input())\n",
    "nums =list( map(int,input().split(' ')))\n",
    "min_max(nums,size)"
   ]
  },
  {
   "cell_type": "code",
   "execution_count": 6,
   "id": "860076a5-e689-4ece-aab7-9013801cc64d",
   "metadata": {},
   "outputs": [
    {
     "name": "stdin",
     "output_type": "stream",
     "text": [
      " 5\n",
      " 2 3 6 8 1\n"
     ]
    },
    {
     "name": "stdout",
     "output_type": "stream",
     "text": [
      "Total sum is: 20\n"
     ]
    }
   ],
   "source": [
    "#sum of all values in a list\n",
    "def sum_of_elements(nums, size):\n",
    "    total_sum = 0\n",
    "    for num in nums:\n",
    "        total_sum += num  \n",
    "    print(f\"Total sum is: {total_sum}\")\n",
    "\n",
    "size = int(input())  \n",
    "nums = list(map(int, input().split(' ')))  \n",
    "sum_of_elements(nums, size)"
   ]
  },
  {
   "cell_type": "code",
   "execution_count": 8,
   "id": "783678b4-3dd6-46c2-8861-ce7e9c606817",
   "metadata": {},
   "outputs": [
    {
     "name": "stdin",
     "output_type": "stream",
     "text": [
      " 5\n",
      " 2 3 6 8 1\n"
     ]
    },
    {
     "name": "stdout",
     "output_type": "stream",
     "text": [
      "sum of Even 16\n",
      "sum of Odd 4\n"
     ]
    }
   ],
   "source": [
    "#sum of Even and Odd values in a list\n",
    "def sum_element(nums, size):\n",
    "    even = 0\n",
    "    odd = 0\n",
    "    for num in nums:\n",
    "        if (num%2 == 0):\n",
    "            even += num\n",
    "        else:\n",
    "            odd  += num\n",
    "    \n",
    "    print(f\"sum of Even {even}\")\n",
    "    print(f\"sum of Odd {odd}\")\n",
    "\n",
    "#driver Code\n",
    "size = int(input())\n",
    "nums = list(map(int, input().split(' ')))\n",
    "sum_element(nums, size)"
   ]
  },
  {
   "cell_type": "code",
   "execution_count": null,
   "id": "ead41d6e-f4ae-4ebf-ab29-375ae1815888",
   "metadata": {},
   "outputs": [],
   "source": []
  }
 ],
 "metadata": {
  "kernelspec": {
   "display_name": "Python 3 (ipykernel)",
   "language": "python",
   "name": "python3"
  },
  "language_info": {
   "codemirror_mode": {
    "name": "ipython",
    "version": 3
   },
   "file_extension": ".py",
   "mimetype": "text/x-python",
   "name": "python",
   "nbconvert_exporter": "python",
   "pygments_lexer": "ipython3",
   "version": "3.11.7"
  }
 },
 "nbformat": 4,
 "nbformat_minor": 5
}
